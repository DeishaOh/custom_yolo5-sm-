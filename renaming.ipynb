import os 

# 폴더 경로
# 절임배추는 이미 이름이 julim으로 통일되서 작업할 필요가 없었음
baechu_path = 'C:/Users/rk401/Desktop/baechu/'
new_baechu_path = 'C:/Users/rk401/Desktop/new_baechu/'
baechu_label_path = 'C:/Users/rk401/Desktop/baechu_label/'
new_baechu_label_path = 'C:/Users/rk401/Desktop/new_baechu_label/'

danggun_path = 'C:/Users/rk401/Desktop/danggun/'
new_danggun_path = 'C:/Users/rk401/Desktop/new_danggun/'
danggun_label_path = 'C:/Users/rk401/Desktop/danggun_label/'
new_danggun_label_path = 'C:/Users/rk401/Desktop/new_danggun_label/'

yangpa_path = 'C:/Users/rk401/Desktop/yangpa/'
new_yangpa_path = 'C:/Users/rk401/Desktop/new_yangpa/'
yangpa_label_path = 'C:/Users/rk401/Desktop/yangpa_label/'
new_yangpa_label_path = 'C:/Users/rk401/Desktop/new_yangpa_label/'

mu_path = 'C:/Users/rk401/Desktop/mu/'
new_mu_path = 'C:/Users/rk401/Desktop/new_mu/'
mu_label_path = 'C:/Users/rk401/Desktop/mu_label/'
new_mu_label_path = 'C:/Users/rk401/Desktop/new_mu_label/'

ban_baechu_path = 'C:/Users/rk401/Desktop/ban_baechu/'
new_ban_baechu_path = 'C:/Users/rk401/Desktop/new_ban_baechu/'
ban_baechu_label_path = 'C:/Users/rk401/Desktop/ban_baechu_label/'
new_ban_baechu_label_path = 'C:/Users/rk401/Desktop/new_ban_baechu_label/'

mixed_path = 'C:/Users/rk401/Desktop/mixed/'
new_mixed_path = 'C:/Users/rk401/Desktop/new_mixed/'
mixed_label_path = 'C:/Users/rk401/Desktop/mixed_label/'
new_mixed_label_path = 'C:/Users/rk401/Desktop/new_mixed_label/'

files = os.listdir(mixed_label_path) # 해당 폴더에 있는 파일 이름을 리스트 형태로 받음

#-------------------------------------------------------------------이미지
for i in range(len(files)):
    old_name = os.path.join(mixed_path, files[i])
    new_name = os.path.join(new_mixed_path, "mixed{}.jpg".format(i))
    
    os.rename(old_name, new_name)

#-------------------------------------------------------------------
for i in range(len(files)):
    old_name = os.path.join(mixed_label_path, files[i])
    new_name = os.path.join(new_mixed_label_path, "mixed_label{}.txt".format(i))
    
    os.rename(old_name, new_name)
