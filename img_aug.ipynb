{
 "cells": [
  {
   "cell_type": "code",
   "execution_count": 8,
   "id": "753eff9a",
   "metadata": {},
   "outputs": [
    {
     "data": {
      "text/plain": [
       "\"\\n#좌우 대칭\\nhorizonal_flip_image = image.transpose(Image.FLIP_LEFT_RIGHT) \\nhorizonal_flip_image.save('_horizonal_flip.jpg')\\n\\n#상하 대칭\\nvertical_flip_image = image.transpose(Image.FLIP_TOP_BOTTOM) \\nvertical_flip_image.save('_vertical_flip.jpg')\\n\\n#좌우 이동\\nwidth, height = image.size\\nshift = random.randint(0, width * 0.2)\\nhorizonal_shift_image = ImageChops.offset(image, shift, 0)\\nhorizonal_shift_image.paste((0), (0, 0, shift, height))\\nhorizonal_shift_image.save('_horizonal_shift.jpg')\\n\\n#상하 이동\\nwidth, height = image.size\\nshift = random.randint(0, height * 0.2)\\nvertical_shift_image = ImageChops.offset(image, 0, shift)\\nvertical_shift_image.paste((0), (0, 0, width, shift))\\nvertical_shift_image.save('_vertical_shift.jpg')\\n\\n#회전 \\nrotate_image = image.rotate(random.randint(-30, 30))\\nrotate_image.save('_rotate.jpg')\\n\\n#기울기\\n#cx, cy = 0.1, 0\\n#cx, cy = 0, 0.1\\ncx, cy = 0, random.uniform(0.0, 0.3)\\nshear_image = image.transform(\\n    image.size,\\n    method=Image.AFFINE,\\n    data=[1, cx, 0,\\n          cy, 1, 0,])\\nshear_image.save('_shear.jpg')\\n\\n#확대 축소\\nzoom = random.uniform(0.7, 1.3) #0.7 ~ 1.3\\nwidth, height = image.size\\nx = width / 2\\ny = height / 2\\ncrop_image = image.crop((x - (width / 2 / zoom), y - (height / 2 / zoom), x + (width / 2 / zoom), y + (height / 2 / zoom)))\\nzoom_image = crop_image.resize((width, height), Image.LANCZOS)\\nzoom_image.save('_zoom.jpg')\\n\""
      ]
     },
     "execution_count": 8,
     "metadata": {},
     "output_type": "execute_result"
    }
   ],
   "source": [
    "from PIL import Image, ImageEnhance, ImageChops\n",
    "import numpy as np\n",
    "import random\n",
    "\n",
    "##########데이터 로드\n",
    "\n",
    "image = Image.open('1_jung.jpg')\n",
    "image = image.convert('RGB') #'L': greyscale, '1': 이진화, 'RGB' , 'RGBA', 'CMYK'\n",
    "image = image.resize((300, 300))\n",
    "\n",
    "#밝게\n",
    "enhancer = ImageEnhance.Brightness(image)\n",
    "brightness_image = enhancer.enhance(1.7)\n",
    "brightness_image.save('_brightness.jpg')\n",
    "\n",
    "#어둡게\n",
    "enhancer = ImageEnhance.Brightness(image)\n",
    "brightness_image = enhancer.enhance(0.5)\n",
    "brightness_image.save('_darkness.jpg')\n",
    "'''\n",
    "#좌우 대칭\n",
    "horizonal_flip_image = image.transpose(Image.FLIP_LEFT_RIGHT) \n",
    "horizonal_flip_image.save('_horizonal_flip.jpg')\n",
    "\n",
    "#상하 대칭\n",
    "vertical_flip_image = image.transpose(Image.FLIP_TOP_BOTTOM) \n",
    "vertical_flip_image.save('_vertical_flip.jpg')\n",
    "\n",
    "#좌우 이동\n",
    "width, height = image.size\n",
    "shift = random.randint(0, width * 0.2)\n",
    "horizonal_shift_image = ImageChops.offset(image, shift, 0)\n",
    "horizonal_shift_image.paste((0), (0, 0, shift, height))\n",
    "horizonal_shift_image.save('_horizonal_shift.jpg')\n",
    "\n",
    "#상하 이동\n",
    "width, height = image.size\n",
    "shift = random.randint(0, height * 0.2)\n",
    "vertical_shift_image = ImageChops.offset(image, 0, shift)\n",
    "vertical_shift_image.paste((0), (0, 0, width, shift))\n",
    "vertical_shift_image.save('_vertical_shift.jpg')\n",
    "\n",
    "#회전 \n",
    "rotate_image = image.rotate(random.randint(-30, 30))\n",
    "rotate_image.save('_rotate.jpg')\n",
    "\n",
    "#기울기\n",
    "#cx, cy = 0.1, 0\n",
    "#cx, cy = 0, 0.1\n",
    "cx, cy = 0, random.uniform(0.0, 0.3)\n",
    "shear_image = image.transform(\n",
    "    image.size,\n",
    "    method=Image.AFFINE,\n",
    "    data=[1, cx, 0,\n",
    "          cy, 1, 0,])\n",
    "shear_image.save('_shear.jpg')\n",
    "\n",
    "#확대 축소\n",
    "zoom = random.uniform(0.7, 1.3) #0.7 ~ 1.3\n",
    "width, height = image.size\n",
    "x = width / 2\n",
    "y = height / 2\n",
    "crop_image = image.crop((x - (width / 2 / zoom), y - (height / 2 / zoom), x + (width / 2 / zoom), y + (height / 2 / zoom)))\n",
    "zoom_image = crop_image.resize((width, height), Image.LANCZOS)\n",
    "zoom_image.save('_zoom.jpg')\n",
    "'''"
   ]
  },
  {
   "cell_type": "code",
   "execution_count": null,
   "id": "692cf5ed",
   "metadata": {},
   "outputs": [],
   "source": []
  }
 ],
 "metadata": {
  "kernelspec": {
   "display_name": "Python 3 (ipykernel)",
   "language": "python",
   "name": "python3"
  },
  "language_info": {
   "codemirror_mode": {
    "name": "ipython",
    "version": 3
   },
   "file_extension": ".py",
   "mimetype": "text/x-python",
   "name": "python",
   "nbconvert_exporter": "python",
   "pygments_lexer": "ipython3",
   "version": "3.9.12"
  }
 },
 "nbformat": 4,
 "nbformat_minor": 5
}
