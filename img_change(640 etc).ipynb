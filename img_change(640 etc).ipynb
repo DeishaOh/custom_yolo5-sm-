{
 "cells": [
  {
   "cell_type": "code",
   "execution_count": 2,
   "id": "eba5db6a",
   "metadata": {},
   "outputs": [],
   "source": [
    "import glob\n",
    "import os\n",
    "from PIL import Image\n",
    "files = glob.glob('C:/Users/rk401/Desktop/ㅁ둠/*.jpg')\n",
    "\n",
    "for f in files:\n",
    "    title, ext = os.path.splitext(f)\n",
    "    if ext in ['.jpg']:\n",
    "        img = Image.open(f)\n",
    "        img_resize = img.resize((640, 640))\n",
    "        img_resize.save(title+ext)"
   ]
  },
  {
   "cell_type": "code",
   "execution_count": null,
   "id": "d3524d1b",
   "metadata": {},
   "outputs": [],
   "source": []
  }
 ],
 "metadata": {
  "kernelspec": {
   "display_name": "Python 3 (ipykernel)",
   "language": "python",
   "name": "python3"
  },
  "language_info": {
   "codemirror_mode": {
    "name": "ipython",
    "version": 3
   },
   "file_extension": ".py",
   "mimetype": "text/x-python",
   "name": "python",
   "nbconvert_exporter": "python",
   "pygments_lexer": "ipython3",
   "version": "3.9.12"
  }
 },
 "nbformat": 4,
 "nbformat_minor": 5
}
